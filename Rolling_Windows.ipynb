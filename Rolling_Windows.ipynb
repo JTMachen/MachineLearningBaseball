{
 "cells": [
  {
   "cell_type": "code",
   "execution_count": 2,
   "id": "least-outside",
   "metadata": {},
   "outputs": [],
   "source": [
    "from pybaseball import batting_stats_range, pitching_stats_range\n",
    "from datetime import datetime, timedelta\n",
    "from num2words import num2words\n",
    "import time\n",
    "import pandas as pd\n",
    "import numpy as np\n",
    "import warnings\n",
    "warnings.filterwarnings(\"ignore\")"
   ]
  },
  {
   "cell_type": "code",
   "execution_count": 3,
   "id": "scenic-employer",
   "metadata": {},
   "outputs": [],
   "source": [
    "def rolling_windows(days):\n",
    "    print(days, \"Day Rolling Window\")\n",
    "    date = datetime.today()\n",
    "    date = date.strptime(\"2022-04-07\",\"%Y-%m-%d\")\n",
    "    dates_first_format = []\n",
    "    dates_second_format = []\n",
    "    end_date = datetime.today()\n",
    "    end_date = end_date.strptime(\"2022-10-06\", \"%Y-%m-%d\")\n",
    "    while date < end_date:\n",
    "        dates_first_format.append(date.strftime(\"%Y-%m-%d\"))\n",
    "        dates_second_format.append(date.strftime(\"%b %d, %Y\"))\n",
    "        date = date + timedelta(days = 1)\n",
    "    total_bat = pd.DataFrame()\n",
    "    total_pitch = pd.DataFrame()\n",
    "    invalid_dates = []\n",
    "    for x in range(len(dates_first_format[:-days])):\n",
    "        try:\n",
    "            temp_bat = batting_stats_range(dates_first_format[x],dates_first_format[x+days])\n",
    "            temp_pitch = pitching_stats_range(dates_first_format[x],dates_first_format[x+days])\n",
    "            temp_bat['Date'] = dates_first_format[x+days]\n",
    "            temp_pitch['Date'] = dates_first_format[x+days]\n",
    "        except:\n",
    "            print(dates_first_format[x],\"invalid\")\n",
    "            invalid_dates.append(dates_first_format[x])\n",
    "            continue\n",
    "        time.sleep(7)\n",
    "        total_bat = pd.concat([total_bat,temp_bat],axis = 0)\n",
    "        total_pitch = pd.concat([total_pitch,temp_pitch], axis = 0)\n",
    "\n",
    "    for date in invalid_dates:\n",
    "        new_date = datetime.strptime(date,\"%Y-%m-%d\") + timedelta(days = days)\n",
    "        new_date = new_date.strftime(\"%Y-%m-%d\")\n",
    "        try:\n",
    "            temp_bat = batting_stats_range(date, new_date)\n",
    "            temp_pitch = pitching_stats_range(date, new_date)\n",
    "            temp_bat['Date'] = date\n",
    "            temp_pitch['Date'] = date\n",
    "        except:\n",
    "            print(date, \" \", new_date, \"invalid\")\n",
    "            continue\n",
    "        time.sleep(7)\n",
    "        total_bat = pd.concat([total_bat,temp_bat],axis = 0)\n",
    "        total_pitch = pd.concat([total_pitch,temp_pitch], axis = 0)\n",
    "\n",
    "    new_date = []\n",
    "    date_time = datetime.today()\n",
    "    for date in rolling_pitch.Date:\n",
    "        date = datetime.strptime(date,\"%Y-%m-%d\")\n",
    "        date = date.strftime(\"%b %d, %Y\")\n",
    "        new_date.append(date)\n",
    "    rolling_pitch['Date'] = new_date\n",
    "    new_date = []\n",
    "    date_time = datetime.today()\n",
    "    for date in rolling_bat.Date:\n",
    "        date = datetime.strptime(date,\"%Y-%m-%d\")\n",
    "        date = date.strftime(\"%b %d, %Y\")\n",
    "        new_date.append(date)\n",
    "    rolling_bat['Date'] = new_date\n",
    "    string_list = num2words(days).split(\"-\")\n",
    "    tempString = \"\"\n",
    "    for number in string_list:\n",
    "        number = number.capitalize()\n",
    "        tempString += number\n",
    "        tempString += \"_\"\n",
    "    total_bat.sort_values(\"Date\").to_csv(tempString + \"Days_Bat.csv\")\n",
    "    total_pitch.sort_values(\"Date\").to_csv(tempString + \"Days_Pitch.csv\")"
   ]
  },
  {
   "cell_type": "code",
   "execution_count": null,
   "id": "valid-bathroom",
   "metadata": {},
   "outputs": [
    {
     "name": "stdout",
     "output_type": "stream",
     "text": [
      "15 Day Rolling Window\n"
     ]
    }
   ],
   "source": [
    "rolling_windows(15)"
   ]
  },
  {
   "cell_type": "code",
   "execution_count": null,
   "id": "innocent-concept",
   "metadata": {},
   "outputs": [],
   "source": []
  }
 ],
 "metadata": {
  "kernelspec": {
   "display_name": "Python 3",
   "language": "python",
   "name": "python3"
  },
  "language_info": {
   "codemirror_mode": {
    "name": "ipython",
    "version": 3
   },
   "file_extension": ".py",
   "mimetype": "text/x-python",
   "name": "python",
   "nbconvert_exporter": "python",
   "pygments_lexer": "ipython3",
   "version": "3.9.2"
  }
 },
 "nbformat": 4,
 "nbformat_minor": 5
}
