{
 "cells": [
  {
   "cell_type": "code",
   "execution_count": 9,
   "id": "wicked-credits",
   "metadata": {},
   "outputs": [],
   "source": [
    "import pandas as pd\n",
    "import numpy as np\n",
    "import warnings\n",
    "warnings.filterwarnings(\"ignore\")"
   ]
  },
  {
   "cell_type": "code",
   "execution_count": 10,
   "id": "fallen-hygiene",
   "metadata": {},
   "outputs": [],
   "source": [
    "schedule = pd.read_csv(\"Up_To_Today.csv\",index_col = \"Unnamed: 0\")"
   ]
  },
  {
   "cell_type": "code",
   "execution_count": 12,
   "id": "aging-adaptation",
   "metadata": {},
   "outputs": [
    {
     "name": "stdout",
     "output_type": "stream",
     "text": [
      "Starting 7 Day Concatenation\n",
      "Finished 7 Day Concatenation\n",
      "Starting 10 Day Concatenation\n",
      "Finished 10 Day Concatenation\n",
      "Starting 15 Day Concatenation\n",
      "Finished 15 Day Concatenation\n"
     ]
    }
   ],
   "source": [
    "window_list = ['7','10','15']\n",
    "for window in window_list:\n",
    "    print(\"Starting \" + window + \" Day Concatenation\")\n",
    "    roll = pd.read_csv(window + \"_Day_Rolling_Window.csv\",index_col = \"Unnamed: 0\")\n",
    "    total_df = pd.DataFrame()\n",
    "    for date in roll['Date'].unique():\n",
    "        for visit in schedule[schedule['Date'] == date]['Visitor']:\n",
    "            day = schedule[schedule['Date'] == date]\n",
    "            temp = roll[roll['Date'] == date]\n",
    "            temp_team = temp[temp['Team'] == visit]\n",
    "            temp_team.drop(columns = ['Team','Date'],inplace=True)\n",
    "            temp_team = temp_team.add_suffix(\"_Visitor\")\n",
    "            home = day[day['Visitor'] == visit]\n",
    "            home_team = temp[temp['Team'] == home.iloc[0]['Home']]\n",
    "            home_team.drop(columns = ['Team','Date'],inplace=True)\n",
    "            home_team = home_team.add_suffix(\"_Home\")\n",
    "            concat_df = pd.concat([home,temp_team],axis=1)\n",
    "            concat_df = pd.concat([concat_df,home_team],axis=1)\n",
    "            total_df = pd.concat([total_df,concat_df])\n",
    "    wl = []\n",
    "    for x in range(len(total_df)):\n",
    "        if total_df.iloc[x]['H_Score'] > total_df.iloc[x]['V_Score']:\n",
    "            wl.append(1)\n",
    "        else:\n",
    "            wl.append(0)\n",
    "    total_df['Home_Win'] = wl\n",
    "    total_df.drop(columns = ['V_Score','H_Score'],inplace=True)\n",
    "    total_df.drop_duplicates(inplace=True)\n",
    "    total_df = total_df[total_df['Games_Visitor'] > 4]\n",
    "    total_df = total_df[total_df['Games_Home'] > 4]\n",
    "    total_df.to_csv(window + \"_Concatenated.csv\")\n",
    "    print(\"Finished \" + window + \" Day Concatenation\")"
   ]
  },
  {
   "cell_type": "code",
   "execution_count": null,
   "id": "vocational-startup",
   "metadata": {},
   "outputs": [],
   "source": []
  }
 ],
 "metadata": {
  "kernelspec": {
   "display_name": "Python 3",
   "language": "python",
   "name": "python3"
  },
  "language_info": {
   "codemirror_mode": {
    "name": "ipython",
    "version": 3
   },
   "file_extension": ".py",
   "mimetype": "text/x-python",
   "name": "python",
   "nbconvert_exporter": "python",
   "pygments_lexer": "ipython3",
   "version": "3.9.2"
  }
 },
 "nbformat": 4,
 "nbformat_minor": 5
}
