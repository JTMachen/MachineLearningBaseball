{
 "cells": [
  {
   "cell_type": "code",
   "execution_count": 1,
   "id": "precious-washer",
   "metadata": {},
   "outputs": [],
   "source": [
    "import pandas as pd\n",
    "import numpy as np\n",
    "import warnings\n",
    "warnings.filterwarnings(\"ignore\")"
   ]
  },
  {
   "cell_type": "code",
   "execution_count": 2,
   "id": "foster-guyana",
   "metadata": {},
   "outputs": [],
   "source": [
    "bat_data = pd.read_csv(\"Clean_Bat.csv\",index_col = \"Unnamed: 0\")\n",
    "bat_data.fillna(0,inplace=True)\n",
    "pitch_data = pd.read_csv(\"Clean_Pitch.csv\",index_col = \"Unnamed: 0\")\n",
    "pitch_data.fillna(0,inplace=True)\n",
    "prior_games = pd.read_csv(\"Previous_Games.csv\",index_col=\"Unnamed: 0\")"
   ]
  },
  {
   "cell_type": "code",
   "execution_count": 3,
   "id": "illegal-dominican",
   "metadata": {},
   "outputs": [],
   "source": [
    "total_sum_df = pd.DataFrame()\n",
    "rolling_window_df = pd.read_csv(\"7_Day_Window_Bat.csv\",index_col = \"Unnamed: 0\")\n",
    "start_date = rolling_window_df.iloc[-1]['Date']\n",
    "x = 0\n",
    "while x < len(prior_games[prior_games['Date'] > start_date].Date.unique()):\n",
    "    team_date_df = pd.DataFrame()\n",
    "    date_list = prior_games[prior_games['Date'] > start_date].Date.unique()[x:x+7]\n",
    "    for date in date_list:\n",
    "        date_df = bat_data[bat_data['Date'] == date]\n",
    "        team_df = pd.DataFrame()\n",
    "        for team in date_df.Team.unique():\n",
    "            temp_df = pd.DataFrame(date_df.groupby(\"Team\").get_group(team)[['PA','AB','R','H','2B','3B','HR','RBI','BB','IBB','SO','HBP','SH','SF','GDP','SB','CS']].sum()).T\n",
    "            temp_df['Home_Away'] = int(date_df.Home_Away.iloc[0])\n",
    "            temp_df['Date'] = date_df.Date.iloc[0]\n",
    "            temp_df['Team'] = team\n",
    "            temp_df.set_index(\"Team\",inplace=True)\n",
    "            team_df = pd.concat([team_df,temp_df])\n",
    "        team_date_df = pd.concat([team_date_df,team_df])\n",
    "    team_date_df.reset_index(inplace=True)\n",
    "    for team in team_date_df.Team.unique():\n",
    "        team_df = team_date_df\n",
    "        team_df = team_df[team_df['Team'] == team]\n",
    "        temp_df = pd.DataFrame(team_df.sum()[['PA','AB','R','H','2B','3B','HR','RBI','BB','IBB','SO','HBP','SH','SF','GDP','SB','CS']]).T\n",
    "        temp_df['Date'] = team_df.iloc[-1]['Date']\n",
    "        temp_df['Team'] = team\n",
    "        temp_df['Home_Away'] = team_df.iloc[-1].Home_Away\n",
    "        total_sum_df = pd.concat([total_sum_df,temp_df])\n",
    "    x+=1\n",
    "if len(total_sum_df) > 0:\n",
    "    df_2022 = total_sum_df[total_sum_df['Date'] < \"2023-01-01\"]\n",
    "    post_first_week = total_sum_df[total_sum_df['Date'] > \"2023-04-05\"]\n",
    "    final_df = pd.concat([df_2022,post_first_week])\n",
    "    final_df.to_csv(\"7_Day_Window_Bat.csv\")"
   ]
  },
  {
   "cell_type": "code",
   "execution_count": 4,
   "id": "universal-metadata",
   "metadata": {},
   "outputs": [],
   "source": [
    "total_sum_df = pd.DataFrame()\n",
    "rolling_window_df = pd.read_csv(\"7_Day_Window_Pitch.csv\",index_col = \"Unnamed: 0\")\n",
    "start_date = rolling_window_df.iloc[-1]['Date']\n",
    "x = 0\n",
    "while x < len(prior_games[prior_games['Date'] > start_date].Date.unique()):\n",
    "    team_date_df = pd.DataFrame()\n",
    "    date_list = prior_games[prior_games['Date'] > start_date].Date.unique()[x:x+7]\n",
    "    for date in date_list:\n",
    "        date_df = bat_data[bat_data['Date'] == date]\n",
    "        team_df = pd.DataFrame()\n",
    "        for team in date_df.Team.unique():\n",
    "            temp_df = pd.DataFrame(date_df.groupby(\"Team\").get_group(team)[['GS', 'IP', 'H', 'R', 'ER','BB', 'SO', 'HR', 'HBP', 'AB', '2B', '3B', 'IBB', 'GDP', 'SF', 'SB','CS', 'PO', 'BF', 'GB/FB', 'LD', 'PU']].sum()).T\n",
    "            temp_df['Home_Away'] = int(date_df.Home_Away.iloc[0])\n",
    "            temp_df['Date'] = date_df.Date.iloc[0]\n",
    "            temp_df['Team'] = team\n",
    "            temp_df.set_index(\"Team\",inplace=True)\n",
    "            team_df = pd.concat([team_df,temp_df])\n",
    "        team_date_df = pd.concat([team_date_df,team_df])\n",
    "    team_date_df.reset_index(inplace=True)\n",
    "    for team in team_date_df.Team.unique():\n",
    "        team_df = team_date_df\n",
    "        team_df = team_df[team_df['Team'] == team]\n",
    "        temp_df = pd.DataFrame(team_df.sum()[['GS', 'IP', 'H', 'R', 'ER','BB', 'SO', 'HR', 'HBP', 'AB', '2B', '3B', 'IBB', 'GDP', 'SF', 'SB','CS', 'PO', 'BF', 'GB/FB', 'LD', 'PU']]).T\n",
    "        temp_df['Date'] = team_df.iloc[-1]['Date']\n",
    "        temp_df['Team'] = team\n",
    "        temp_df['Home_Away'] = team_df.iloc[-1].Home_Away\n",
    "        total_sum_df = pd.concat([total_sum_df,temp_df])\n",
    "    x+=1\n",
    "if len(total_sum_df) > 0:\n",
    "    df_2022 = total_sum_df[total_sum_df['Date'] < \"2023-01-01\"]\n",
    "    post_first_week = total_sum_df[total_sum_df['Date'] > \"2023-04-05\"]\n",
    "    final_df = pd.concat([df_2022,post_first_week])\n",
    "    final_df.drop(columns = ['GB/FB','LD','PU'],inplace=True)\n",
    "    final_df.to_csv(\"7_Day_Window_Pitch.csv\")"
   ]
  },
  {
   "cell_type": "code",
   "execution_count": null,
   "id": "classified-sandwich",
   "metadata": {},
   "outputs": [],
   "source": []
  }
 ],
 "metadata": {
  "kernelspec": {
   "display_name": "Python 3",
   "language": "python",
   "name": "python3"
  },
  "language_info": {
   "codemirror_mode": {
    "name": "ipython",
    "version": 3
   },
   "file_extension": ".py",
   "mimetype": "text/x-python",
   "name": "python",
   "nbconvert_exporter": "python",
   "pygments_lexer": "ipython3",
   "version": "3.9.2"
  }
 },
 "nbformat": 4,
 "nbformat_minor": 5
}
