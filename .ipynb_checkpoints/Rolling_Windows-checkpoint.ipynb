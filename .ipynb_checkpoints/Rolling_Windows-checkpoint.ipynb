{
 "cells": [
  {
   "cell_type": "code",
   "execution_count": 1,
   "id": "necessary-yesterday",
   "metadata": {},
   "outputs": [],
   "source": [
    "import pandas as pd\n",
    "import numpy as np\n",
    "import warnings\n",
    "from datetime import datetime,timedelta\n",
    "warnings.filterwarnings(\"ignore\")"
   ]
  },
  {
   "cell_type": "code",
   "execution_count": 12,
   "id": "focal-preference",
   "metadata": {
    "tags": []
   },
   "outputs": [],
   "source": [
    "def rolling_windows(window):\n",
    "    bat_data = pd.read_csv(\"Clean_Bat.csv\",index_col = \"Unnamed: 0\")\n",
    "    pitch_data = pd.read_csv(\"Clean_Pitch.csv\",index_col = \"Unnamed: 0\")\n",
    "    prior_games = pd.read_csv(\"Previous_Games.csv\",index_col=\"Unnamed: 0\")\n",
    "    total_rolling_bat = pd.DataFrame()\n",
    "    post_start = prior_games[prior_games['Date'] > prior_games.Date.unique()[window]]\n",
    "    season_2022 = post_start[post_start['Date'] < \"2023-03-30\"]\n",
    "    date_after_window = datetime.strptime(\"2023-03-30\",\"%Y-%m-%d\") + timedelta(days = window)\n",
    "    date_after_window = date_after_window.strftime(\"%Y-%m-%d\")\n",
    "    season_2023 = post_start[post_start['Date'] > date_after_window]\n",
    "    total_clean_date = pd.concat([season_2022,season_2023])\n",
    "    for date in total_clean_date.Date.unique():\n",
    "        date_df = bat_data[bat_data['Date'] < date]\n",
    "        past = datetime.strptime(date,\"%Y-%m-%d\") - timedelta(days = window)\n",
    "        past = past.strftime(\"%Y-%m-%d\")\n",
    "        date_df = date_df[date_df['Date'] >= past]\n",
    "        today = bat_data[bat_data['Date'] == date]\n",
    "        for team in today.Team.unique():\n",
    "            team_df = date_df.groupby(\"Team\").get_group(team)\n",
    "            temp_df = pd.DataFrame(team_df[['PA','AB','R','H','2B','3B','HR','RBI','BB','IBB','SO','HBP','SH','SF','GDP','SB','CS']].sum()).T\n",
    "            temp_df = temp_df.add_suffix(\"_Bat\")\n",
    "            temp_df['Team'] = team\n",
    "            temp_df['Date'] = date\n",
    "            temp_df['Games'] = len(team_df.Date.unique())\n",
    "            total_rolling_bat = pd.concat([total_rolling_bat,temp_df])\n",
    "    total_rolling_pitch = pd.DataFrame()\n",
    "    for date in total_clean_date.Date.unique():\n",
    "        date_df = pitch_data[pitch_data['Date'] < date]\n",
    "        past = datetime.strptime(date,\"%Y-%m-%d\") - timedelta(days = window)\n",
    "        past = past.strftime(\"%Y-%m-%d\")\n",
    "        date_df = date_df[date_df['Date'] >= past]\n",
    "        today = pitch_data[pitch_data['Date'] == date]\n",
    "        for team in today.Team.unique():\n",
    "            team_df = date_df.groupby(\"Team\").get_group(team)\n",
    "            for x in range(0,8):\n",
    "                team_df['IP'] = team_df['IP'].replace(x+.1,x+.33)\n",
    "                team_df['IP'] = team_df['IP'].replace(x+.2,x+.67)\n",
    "            temp_df = pd.DataFrame(team_df[['IP','H','R','ER','BB','SO','HR','HBP','AB','2B','3B','IBB','SB','CS','PO','BF','GB/FB']].sum()).T\n",
    "            temp_df = temp_df.add_suffix(\"_Pitch\")\n",
    "            temp_df['Team'] = team\n",
    "            temp_df['Date'] = date\n",
    "            total_rolling_pitch = pd.concat([total_rolling_pitch,temp_df])\n",
    "    ip_list = []\n",
    "    for ip in total_rolling_pitch['IP_Pitch']:\n",
    "        if float(\".\" + str(ip).split(\".\")[1]) > 0.5 and float(\".\" + str(ip).split(\".\")[1]) < 0.835:\n",
    "            ip = int(str(ip).split(\".\")[0]) + 0.67\n",
    "        elif float(\".\" + str(ip).split(\".\")[1]) < 0.5 and float(\".\" + str(ip).split(\".\")[1]) > 0.165:\n",
    "            ip = int(str(ip).split(\".\")[0]) + 0.33\n",
    "        else:\n",
    "            ip = int(ip)\n",
    "        ip_list.append(ip)\n",
    "    total_rolling_pitch['IP_Pitch'] = ip_list\n",
    "    final_df = pd.DataFrame()\n",
    "    for date in total_rolling_bat.Date.unique():\n",
    "        pitch_df = total_rolling_pitch[total_rolling_pitch['Date'] == date]\n",
    "        bat_df = total_rolling_bat[total_rolling_bat['Date'] == date]\n",
    "        for team in pitch_df.Team.unique():\n",
    "            team_pitch = pitch_df[pitch_df['Team'] == team]\n",
    "            team_bat = bat_df[bat_df['Team'] == team]\n",
    "            team_pitch = team_pitch.set_index(\"Team\")\n",
    "            team_bat.drop(columns = 'Date',inplace = True)\n",
    "            team_bat.set_index(\"Team\",inplace = True)\n",
    "            team = pd.concat([team_pitch,team_bat],axis = 1)\n",
    "            team.reset_index(inplace=True)\n",
    "            team.set_index(\"Date\",inplace=True)\n",
    "            team.reset_index(inplace=True)\n",
    "            final_df = pd.concat([final_df,team])\n",
    "    final_df.to_csv(str(window) + \"_Day_Rolling_Window.csv\")\n",
    "    print(\"Finished running with window of \" + str(window) + \" days.\")\n",
    "    return"
   ]
  },
  {
   "cell_type": "code",
   "execution_count": 6,
   "id": "quality-treasury",
   "metadata": {},
   "outputs": [
    {
     "name": "stdout",
     "output_type": "stream",
     "text": [
      "2023-07-07\n",
      "Finished running with window of 7 days.\n",
      "2023-07-07\n",
      "Finished running with window of 10 days.\n",
      "2023-07-07\n",
      "Finished running with window of 15 days.\n"
     ]
    }
   ],
   "source": [
    "rolling_windows(7)\n",
    "rolling_windows(10)\n",
    "rolling_windows(15)"
   ]
  },
  {
   "cell_type": "code",
   "execution_count": null,
   "id": "falling-ownership",
   "metadata": {},
   "outputs": [],
   "source": []
  }
 ],
 "metadata": {
  "kernelspec": {
   "display_name": "Python 3",
   "language": "python",
   "name": "python3"
  },
  "language_info": {
   "codemirror_mode": {
    "name": "ipython",
    "version": 3
   },
   "file_extension": ".py",
   "mimetype": "text/x-python",
   "name": "python",
   "nbconvert_exporter": "python",
   "pygments_lexer": "ipython3",
   "version": "3.9.2"
  }
 },
 "nbformat": 4,
 "nbformat_minor": 5
}
